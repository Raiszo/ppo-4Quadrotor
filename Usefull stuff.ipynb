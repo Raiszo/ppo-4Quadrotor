{
 "cells": [
  {
   "cell_type": "code",
   "execution_count": 41,
   "metadata": {},
   "outputs": [
    {
     "name": "stdout",
     "output_type": "stream",
     "text": [
      "The autoreload extension is already loaded. To reload it, use:\n",
      "  %reload_ext autoreload\n"
     ]
    }
   ],
   "source": [
    "import tensorflow as tf\n",
    "import gym\n",
    "import numpy as np\n",
    "from network import build_mlp\n",
    "\n",
    "# for auto-reloading external modules\n",
    "# see http://stackoverflow.com/questions/1907993/autoreload-of-modules-in-ipython\n",
    "%load_ext autoreload\n",
    "%autoreload 2\n",
    "\n",
    "tf.set_random_seed(0)"
   ]
  },
  {
   "cell_type": "code",
   "execution_count": 3,
   "metadata": {},
   "outputs": [
    {
     "name": "stdout",
     "output_type": "stream",
     "text": [
      "\u001b[33mWARN: gym.spaces.Box autodetected dtype as <class 'numpy.float32'>. Please provide explicit dtype.\u001b[0m\n",
      "\u001b[33mWARN: gym.spaces.Box autodetected dtype as <class 'numpy.float32'>. Please provide explicit dtype.\u001b[0m\n"
     ]
    }
   ],
   "source": [
    "env = gym.make('Pendulum-v0')"
   ]
  },
  {
   "cell_type": "code",
   "execution_count": 9,
   "metadata": {},
   "outputs": [
    {
     "data": {
      "text/plain": [
       "(1,)"
      ]
     },
     "execution_count": 9,
     "metadata": {},
     "output_type": "execute_result"
    }
   ],
   "source": [
    "ac = env.action_space.sample()\n",
    "ac.shape"
   ]
  },
  {
   "cell_type": "code",
   "execution_count": 10,
   "metadata": {},
   "outputs": [
    {
     "name": "stderr",
     "output_type": "stream",
     "text": [
      "/mnt/f/Awesome/linux-env/.env/lib/python3.5/site-packages/tensorflow/python/client/session.py:1662: UserWarning: An interactive session is already active. This can cause out-of-memory errors in some cases. You must explicitly call `InteractiveSession.close()` to release resources held by the other session(s).\n",
      "  warnings.warn('An interactive session is already active. This can '\n"
     ]
    }
   ],
   "source": [
    "sess = tf.InteractiveSession()"
   ]
  },
  {
   "cell_type": "markdown",
   "metadata": {},
   "source": [
    "# #  Policy Parameterization for Continuous Actions\n",
    "As suggested in Sutton 13.7, a normal distribution is used, where probability $$\\pi$$ is the pdf value"
   ]
  },
  {
   "cell_type": "code",
   "execution_count": 48,
   "metadata": {},
   "outputs": [
    {
     "name": "stdout",
     "output_type": "stream",
     "text": [
      "sample [[3.96088997]\n",
      " [0.84335283]]\n",
      "log_prob [[ -0.81357802]\n",
      " [-48.61635344]]\n",
      "exp prob [[4.43269200e-01]\n",
      " [7.69459863e-22]]\n",
      "dist prob [[4.43269200e-01]\n",
      " [7.69459863e-22]]\n",
      "calc [[4.43269200e-01]\n",
      " [7.69459863e-22]]\n"
     ]
    }
   ],
   "source": [
    "mean = np.array([[2.0], [1.0]])\n",
    "std = np.array([[0.9], [0.1]])\n",
    "\n",
    "x = np.array([[2.0], [0.0]])\n",
    "dist = tf.distributions.Normal(loc=mean, scale=std)\n",
    "sample = dist.sample()\n",
    "log_prob = dist.log_prob(x)\n",
    "exp_prob = tf.exp(log_prob)\n",
    "prob = dist.prob(x)\n",
    "calc = 1/(std*np.sqrt(np.pi*2)) * np.exp(- 0.5 * (x - mean) ** 2 /std**2 )\n",
    "\n",
    "print('sample', sample.eval())\n",
    "print('log_prob', log_prob.eval())\n",
    "print('exp prob', exp_prob.eval())\n",
    "print('dist prob', prob.eval())\n",
    "print('calc', calc)"
   ]
  },
  {
   "cell_type": "code",
   "execution_count": null,
   "metadata": {},
   "outputs": [],
   "source": []
  },
  {
   "cell_type": "code",
   "execution_count": 46,
   "metadata": {},
   "outputs": [
    {
     "data": {
      "text/plain": [
       "3.141592653589793"
      ]
     },
     "execution_count": 46,
     "metadata": {},
     "output_type": "execute_result"
    }
   ],
   "source": [
    "sess.close()"
   ]
  },
  {
   "cell_type": "code",
   "execution_count": null,
   "metadata": {},
   "outputs": [],
   "source": []
  }
 ],
 "metadata": {
  "kernelspec": {
   "display_name": "mnt Linux",
   "language": "python",
   "name": "linux-env"
  },
  "language_info": {
   "codemirror_mode": {
    "name": "ipython",
    "version": 3
   },
   "file_extension": ".py",
   "mimetype": "text/x-python",
   "name": "python",
   "nbconvert_exporter": "python",
   "pygments_lexer": "ipython3",
   "version": "3.5.2"
  }
 },
 "nbformat": 4,
 "nbformat_minor": 2
}
